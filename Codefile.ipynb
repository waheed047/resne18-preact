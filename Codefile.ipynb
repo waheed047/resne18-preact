{
 "cells": [
  {
   "cell_type": "code",
   "execution_count": 4,
   "id": "4742e724-94b7-4658-b6ef-c8771c1ee730",
   "metadata": {},
   "outputs": [],
   "source": [
    "import torch\n",
    "import torch.nn as nn\n",
    "import torch.nn.functional as F\n",
    "\n",
    "import numpy as np\n",
    "import pandas as pd\n",
    "import random\n",
    "\n",
    "import tqdm\n",
    "\n",
    "import torchvision\n",
    "import torchvision.models as models\n",
    "from torchvision import transforms\n",
    "import torchvision.datasets\n",
    "\n",
    "random.seed(0)\n",
    "np.random.seed(0)\n",
    "torch.manual_seed(0)\n",
    "torch.cuda.manual_seed(0)\n",
    "torch.backends.cudnn.deterministic = True\n",
    "device = torch.device('cuda:0' if torch.cuda.is_available() else 'cpu')"
   ]
  },
  {
   "cell_type": "code",
   "execution_count": 5,
   "id": "8d9cb9e8-fe36-4ed1-bc34-04e2b0df7bee",
   "metadata": {},
   "outputs": [
    {
     "name": "stdout",
     "output_type": "stream",
     "text": [
      "Files already downloaded and verified\n",
      "Files already downloaded and verified\n"
     ]
    }
   ],
   "source": [
    "# Dataset initialization\n",
    "\n",
    "batch_size = 64\n",
    "\n",
    "train_transform = transforms.Compose([\n",
    "    # ... (your transformations)\n",
    "])\n",
    "\n",
    "val_transform = transforms.Compose([\n",
    "    # ... (your transformations)\n",
    "])\n",
    "\n",
    "trainset = torchvision.datasets.CIFAR10(root='./', train=True,\n",
    "                                        download=True, transform=train_transform)\n",
    "trainloader = torch.utils.data.DataLoader(trainset, batch_size=batch_size,\n",
    "                                          shuffle=True, num_workers=2)\n",
    "\n",
    "testset = torchvision.datasets.CIFAR10(root='./', train=False,\n",
    "                                       download=True, transform=val_transform)\n",
    "testloader = torch.utils.data.DataLoader(testset, batch_size=batch_size,\n",
    "                                         shuffle=False, num_workers=2)"
   ]
  },
  {
   "cell_type": "code",
   "execution_count": 12,
   "id": "e8ca28de-7881-4f9f-ba4c-83b32cd10218",
   "metadata": {},
   "outputs": [],
   "source": [
    "class ResNet18_Preact(nn.Module):\n",
    "    def __init__(self, block, layers, num_classes=10, zero_init_residual=False,\n",
    "                 groups=1, width_per_group=64, replace_stride_with_dilation=None,\n",
    "                 norm_layer=None):\n",
    "        super(ResNet18_Preact, self).__init__()\n",
    "\n",
    "        # ... (model initialization using PreactBasicBlock)\n",
    "\n",
    "    def forward(self, x):\n",
    "        # The forward pass implementation goes here\n",
    "        x = self.conv1(x)\n",
    "        x = self.bn1(x)\n",
    "        x = self.relu(x)\n",
    "        x = self.maxpool(x)\n",
    "\n",
    "        x = self.layer1(x)\n",
    "        x = self.layer2(x)\n",
    "        x = self.layer3(x)\n",
    "        x = self.layer4(x)\n",
    "\n",
    "        x = self.avgpool(x)\n",
    "        x = torch.flatten(x, 1)\n",
    "        x = self.fc(x)\n",
    "\n",
    "        return x\n"
   ]
  },
  {
   "cell_type": "code",
   "execution_count": 55,
   "id": "39806af2-1d18-4500-a1a5-ee3ac45855cf",
   "metadata": {},
   "outputs": [],
   "source": [
    "class PreactBasicBlock(nn.Module):\n",
    "    expansion = 1\n",
    "\n",
    "    def __init__(self, inplanes, planes, stride=1, downsample=None, norm_layer=None):\n",
    "        super(PreactBasicBlock, self).__init__()\n",
    "\n",
    "        if norm_layer is None:\n",
    "            norm_layer = nn.BatchNorm2d\n",
    "\n",
    "        self.conv1 = conv3x3(inplanes, planes, stride)\n",
    "        self.bn1 = norm_layer(planes)\n",
    "        self.relu = nn.ReLU(inplace=True)\n",
    "        self.conv2 = conv3x3(planes, planes)\n",
    "        self.bn2 = norm_layer(planes)\n",
    "\n",
    "        self.downsample = downsample\n",
    "        self.stride = stride\n",
    "\n",
    "    def forward(self, x):\n",
    "        identity = x\n",
    "\n",
    "        out = self.conv1(x)\n",
    "        out = self.bn1(out)\n",
    "        out = self.relu(out)\n",
    "\n",
    "        out = self.conv2(out)\n",
    "        out = self.bn2(out)\n",
    "\n",
    "        if self.downsample is not None:\n",
    "            identity = self.downsample(x)\n",
    "\n",
    "        out += identity\n",
    "        out = self.relu(out)\n",
    "\n",
    "        return out\n"
   ]
  },
  {
   "cell_type": "code",
   "execution_count": 56,
   "id": "03ac94e7-aa70-4cb9-9924-3829be05efa2",
   "metadata": {},
   "outputs": [
    {
     "name": "stdout",
     "output_type": "stream",
     "text": [
      "Files already downloaded and verified\n",
      "Files already downloaded and verified\n"
     ]
    }
   ],
   "source": [
    "# Dataset initialization\n",
    "batch_size = 64\n",
    "\n",
    "train_transform = transforms.Compose([\n",
    "    transforms.RandomHorizontalFlip(p=0.5),\n",
    "    transforms.RandomApply([transforms.RandomAffine(40)], p=0.3),\n",
    "    transforms.RandomApply([transforms.ColorJitter()], p=0.3),\n",
    "    transforms.ToTensor(),\n",
    "    transforms.Normalize(mean=[0.485, 0.456, 0.406], std=[0.229, 0.224, 0.225])\n",
    "])\n",
    "\n",
    "val_transform = transforms.Compose([\n",
    "    transforms.ToTensor(),\n",
    "    transforms.Normalize(mean=[0.485, 0.456, 0.406], std=[0.229, 0.224, 0.225])\n",
    "])\n",
    "\n",
    "trainset = torchvision.datasets.CIFAR10(root='./', train=True,\n",
    "                                        download=True, transform=train_transform)\n",
    "trainloader = torch.utils.data.DataLoader(trainset, batch_size=batch_size,\n",
    "                                          shuffle=True, num_workers=2)\n",
    "\n",
    "testset = torchvision.datasets.CIFAR10(root='./', train=False,\n",
    "                                       download=True, transform=val_transform)\n",
    "testloader = torch.utils.data.DataLoader(testset, batch_size=batch_size,\n",
    "                                         shuffle=False, num_workers=2)\n",
    "\n",
    "# Define the ResNet18_Preact class"
   ]
  },
  {
   "cell_type": "code",
   "execution_count": 57,
   "id": "b9391095-4e0a-4121-853e-38313cbc4536",
   "metadata": {},
   "outputs": [],
   "source": [
    "# Define the ResNet18_Preact class\n",
    "class ResNet18_Preact(nn.Module):\n",
    "    def __init__(self, block, layers, num_classes=10, zero_init_residual=False,\n",
    "                 groups=1, width_per_group=64, replace_stride_with_dilation=None,\n",
    "                 norm_layer=None):\n",
    "        super(ResNet18_Preact, self).__init__()\n",
    "\n",
    "        self.inplanes = 64\n",
    "        if norm_layer is None:\n",
    "            norm_layer = nn.BatchNorm2d\n",
    "        self._norm_layer = norm_layer\n",
    "\n",
    "        self.conv1 = nn.Conv2d(3, self.inplanes, kernel_size=7, stride=2, padding=3,\n",
    "                               bias=False)\n",
    "        self.bn1 = norm_layer(self.inplanes)\n",
    "        self.relu = nn.ReLU(inplace=True)\n",
    "        self.maxpool = nn.MaxPool2d(kernel_size=3, stride=2, padding=1)\n",
    "\n",
    "        self.layer1 = self._make_layer(block, 64, layers[0])\n",
    "        self.layer2 = self._make_layer(block, 128, layers[1], stride=2)\n",
    "        self.layer3 = self._make_layer(block, 256, layers[2], stride=2)\n",
    "        self.layer4 = self._make_layer(block, 512, layers[3], stride=2)\n",
    "\n",
    "        self.avgpool = nn.AdaptiveAvgPool2d((1, 1))\n",
    "        self.fc = nn.Linear(512 * block.expansion, num_classes)\n",
    "\n",
    "        for m in self.modules():\n",
    "            if isinstance(m, nn.Conv2d):\n",
    "                nn.init.kaiming_normal_(m.weight, mode='fan_out', nonlinearity='relu')\n",
    "            elif isinstance(m, (nn.BatchNorm2d, nn.GroupNorm)):\n",
    "                nn.init.constant_(m.weight, 1)\n",
    "                nn.init.constant_(m.bias, 0)\n",
    "\n",
    "        if zero_init_residual:\n",
    "            for m in self.modules():\n",
    "                if isinstance(m, PreactBasicBlock):\n",
    "                    nn.init.constant_(m.bn2.weight, 0)\n",
    "                elif isinstance(m, nn.BatchNorm2d):\n",
    "                    nn.init.constant_(m.weight, 0)\n",
    "\n",
    "    def _make_layer(self, block, planes, blocks, stride=1):\n",
    "        norm_layer = self._norm_layer\n",
    "        downsample = None\n",
    "        if stride != 1 or self.inplanes != planes * block.expansion:\n",
    "            downsample = nn.Sequential(\n",
    "                conv1x1(self.inplanes, planes * block.expansion, stride),\n",
    "                norm_layer(planes * block.expansion),\n",
    "            )\n",
    "\n",
    "        layers = []\n",
    "        layers.append(block(self.inplanes, planes, stride, downsample, norm_layer=norm_layer))\n",
    "        self.inplanes = planes * block.expansion\n",
    "        for _ in range(1, blocks):\n",
    "            layers.append(block(self.inplanes, planes, norm_layer=norm_layer))\n",
    "\n",
    "        return nn.Sequential(*layers)\n",
    "\n",
    "    def forward(self, x):\n",
    "        x = self.conv1(x)\n",
    "        x = self.bn1(x)\n",
    "        x = self.relu(x)\n",
    "        x = self.maxpool(x)\n",
    "\n",
    "        x = self.layer1(x)\n",
    "        x = self.layer2(x)\n",
    "        x = self.layer3(x)\n",
    "        x = self.layer4(x)\n",
    "\n",
    "        x = self.avgpool(x)\n",
    "        x = torch.flatten(x, 1)\n",
    "        x = self.fc(x)\n",
    "        return x\n"
   ]
  },
  {
   "cell_type": "code",
   "execution_count": 62,
   "id": "f31dd88d-5762-4b4a-8e58-c85de0223764",
   "metadata": {},
   "outputs": [],
   "source": [
    "def conv1x1(in_planes, out_planes, stride=1):\n",
    "    \"\"\"1x1 convolution\"\"\"\n",
    "    return nn.Conv2d(in_planes, out_planes, kernel_size=1, stride=stride, bias=False)\n",
    "def conv3x3(in_planes, out_planes, stride=1):\n",
    "    \"\"\"3x3 convolution with padding\"\"\"\n",
    "    return nn.Conv2d(in_planes, out_planes, kernel_size=3, stride=stride, padding=1, bias=False)\n",
    "\n"
   ]
  },
  {
   "cell_type": "code",
   "execution_count": 63,
   "id": "02d7012d-8290-4b3f-92f5-4cba6c425d21",
   "metadata": {},
   "outputs": [],
   "source": [
    "import torch.optim as optim\n",
    "model = ResNet18_Preact(PreactBasicBlock, [2, 2, 2, 2], num_classes=10)\n",
    "model = model.to(device)\n",
    "\n",
    "# Define the loss, optimizer, and scheduler\n",
    "criterion = nn.CrossEntropyLoss()\n",
    "optimizer = optim.Adam(model.parameters(), lr=1e-3, weight_decay=0.)\n",
    "scheduler = optim.lr_scheduler.StepLR(optimizer, step_size=10, gamma=0.1)\n"
   ]
  },
  {
   "cell_type": "code",
   "execution_count": 64,
   "id": "148dfef3-56db-498c-83c0-d79774a24b7b",
   "metadata": {},
   "outputs": [],
   "source": [
    "# Creating the ResNet18 model with PreactBasicBlock\n",
    "\n",
    "model = ResNet18_Preact(PreactBasicBlock, [2, 2, 2, 2], num_classes=10)\n",
    "model = model.to(device)\n",
    "\n",
    "criterion = nn.CrossEntropyLoss()\n",
    "optimizer = torch.optim.Adam(model.parameters(), lr=1e-3, weight_decay=0.) \n",
    "scheduler = torch.optim.lr_scheduler.StepLR(optimizer, step_size=10, gamma=0.1)"
   ]
  },
  {
   "cell_type": "code",
   "execution_count": 65,
   "id": "64a8b106-2f73-4599-a892-93ef1bc49f37",
   "metadata": {},
   "outputs": [],
   "source": [
    "def cycle(model, loader, criterion, batch_size, train=False, optimizer=None):\n",
    "    overall_loss = []\n",
    "    overall_accuracy = []\n",
    "    dataloader_iterator = iter(loader)\n",
    "\n",
    "    _ = model.train() if train else model.eval()\n",
    "\n",
    "    model_weights = list(model.state_dict().values())  # Store initial model weights\n",
    "\n",
    "    for batch_id in range(len(loader)):   \n",
    "        try:\n",
    "            X_batch, y_batch = next(dataloader_iterator)\n",
    "        except:\n",
    "            dataloader_iterator = iter(loader)\n",
    "            X_batch, y_batch = next(dataloader_iterator)\n",
    "\n",
    "        X_batch = X_batch.to(device)\n",
    "        y_batch = y_batch.to(device)\n",
    "\n",
    "        if train:\n",
    "            optimizer.zero_grad()\n",
    "\n",
    "            preds = model(X_batch)\n",
    "            loss_value = criterion(preds, y_batch)\n",
    "            loss_value.backward()\n",
    "    \n",
    "            optimizer.step()\n",
    "\n",
    "        else:\n",
    "            with torch.no_grad():\n",
    "                preds = model(X_batch)\n",
    "                loss_value = criterion(preds, y_batch).mean()\n",
    "\n",
    "        overall_loss.append(loss_value.item())\n",
    "\n",
    "        accuracy = (preds.argmax(dim=1) == y_batch).float().mean().item()\n",
    "        overall_accuracy.append(accuracy)\n",
    "\n",
    "    mean_loss = sum(overall_loss) / len(loader)\n",
    "    mean_accuracy = sum(overall_accuracy) / len(loader)\n",
    "\n",
    "    return mean_loss, mean_accuracy\n"
   ]
  },
  {
   "cell_type": "code",
   "execution_count": 66,
   "id": "2004b191-c20a-4d36-8f30-55a718a45629",
   "metadata": {},
   "outputs": [
    {
     "data": {
      "application/vnd.jupyter.widget-view+json": {
       "model_id": "88e576e7e0f345ec98ce365eef8e325b",
       "version_major": 2,
       "version_minor": 0
      },
      "text/plain": [
       "  0%|          | 0/20 [00:00<?, ?it/s]"
      ]
     },
     "metadata": {},
     "output_type": "display_data"
    },
    {
     "name": "stdout",
     "output_type": "stream",
     "text": [
      "Epoch: 1\n",
      "Train: loss 1.4791351959985846 accuracy 0.46521339514066495\n",
      "Validation: loss 1.2349267552612693 accuracy 0.5602109872611465\n",
      "Epoch: 2\n",
      "Train: loss 1.1344271168836852 accuracy 0.5999640345268542\n",
      "Validation: loss 0.9695914843279845 accuracy 0.6544585987261147\n",
      "Epoch: 3\n",
      "Train: loss 0.9802711581635049 accuracy 0.6559103260869565\n",
      "Validation: loss 0.8962446122792116 accuracy 0.6823248407643312\n",
      "Epoch: 4\n",
      "Train: loss 0.8737744808273242 accuracy 0.6959119245524297\n",
      "Validation: loss 0.7800356068049267 accuracy 0.7304936305732485\n",
      "Epoch: 5\n",
      "Train: loss 0.8064177420819202 accuracy 0.7190696930946292\n",
      "Validation: loss 0.7953831071306945 accuracy 0.7229299363057324\n",
      "Epoch: 6\n",
      "Train: loss 0.7526233079640762 accuracy 0.7387507992327366\n",
      "Validation: loss 0.7105320329499093 accuracy 0.7558718152866242\n",
      "Epoch: 7\n",
      "Train: loss 0.7001443997292263 accuracy 0.7568734015345269\n",
      "Validation: loss 0.6858229192958516 accuracy 0.7604498407643312\n",
      "Epoch: 8\n",
      "Train: loss 0.6561953636157848 accuracy 0.7723785166240409\n",
      "Validation: loss 0.6490905231730953 accuracy 0.7772691082802548\n",
      "Epoch: 9\n",
      "Train: loss 0.6127822284046036 accuracy 0.7879036125319693\n",
      "Validation: loss 0.6373649721692323 accuracy 0.783140923566879\n",
      "Epoch: 10\n",
      "Train: loss 0.5911640912827933 accuracy 0.795136668797954\n",
      "Validation: loss 0.6512896655851109 accuracy 0.7740843949044586\n",
      "Epoch: 11\n",
      "Train: loss 0.4543117689697639 accuracy 0.8427709398976982\n",
      "Validation: loss 0.5406974123162069 accuracy 0.8191679936305732\n",
      "Epoch: 12\n",
      "Train: loss 0.40867121715832244 accuracy 0.859434942455243\n",
      "Validation: loss 0.5375561746442394 accuracy 0.8225517515923567\n",
      "Epoch: 13\n",
      "Train: loss 0.385316459476338 accuracy 0.8661684782608695\n",
      "Validation: loss 0.5449209715340547 accuracy 0.8215565286624203\n",
      "Epoch: 14\n",
      "Train: loss 0.37078710552066796 accuracy 0.872582320971867\n",
      "Validation: loss 0.5559609458325016 accuracy 0.8255374203821656\n",
      "Epoch: 15\n",
      "Train: loss 0.3611202958942679 accuracy 0.8759390984654731\n",
      "Validation: loss 0.5549496073441901 accuracy 0.8251393312101911\n",
      "Epoch: 16\n",
      "Train: loss 0.34071304138435426 accuracy 0.8824728260869565\n",
      "Validation: loss 0.5643923606272716 accuracy 0.8249402866242038\n",
      "Epoch: 17\n",
      "Train: loss 0.3281798450290547 accuracy 0.8871083759590793\n",
      "Validation: loss 0.5662443109188869 accuracy 0.8256369426751592\n",
      "Epoch: 18\n",
      "Train: loss 0.31727939286767065 accuracy 0.8909047314578005\n",
      "Validation: loss 0.5813748404668395 accuracy 0.8280254777070064\n",
      "Epoch: 19\n",
      "Train: loss 0.3115986428602272 accuracy 0.8917239450127877\n",
      "Validation: loss 0.5940607083830863 accuracy 0.8240445859872612\n",
      "Epoch: 20\n",
      "Train: loss 0.29668519558275447 accuracy 0.8980378836317136\n",
      "Validation: loss 0.6021385447234865 accuracy 0.8258359872611465\n"
     ]
    }
   ],
   "source": [
    "epochs = 20\n",
    "\n",
    "train_loss_history = []\n",
    "train_accuracy_history = []\n",
    "\n",
    "val_loss_history = []\n",
    "val_accuracy_history = []\n",
    "\n",
    "for epoch in tqdm.notebook.tqdm(range(epochs)):\n",
    "    train_loss, train_accuracy = cycle(model, trainloader, criterion, batch_size, train=True, optimizer=optimizer)\n",
    "    train_loss_history.append(train_loss)\n",
    "    train_accuracy_history.append(train_accuracy)\n",
    "\n",
    "    val_loss, val_accuracy = cycle(model, testloader, criterion, batch_size)\n",
    "    val_loss_history.append(val_loss)\n",
    "    val_accuracy_history.append(val_accuracy)\n",
    "\n",
    "    optimizer.step()  # Update optimizer step before scheduler step\n",
    "    scheduler.step()\n",
    "\n",
    "    print('Epoch:', epoch+1)\n",
    "    print('Train: loss', train_loss, 'accuracy', train_accuracy)\n",
    "    print('Validation: loss', val_loss, 'accuracy', val_accuracy)"
   ]
  },
  {
   "cell_type": "code",
   "execution_count": 68,
   "id": "ac6ebec5-d22b-4aa0-9067-677b33289778",
   "metadata": {},
   "outputs": [
    {
     "data": {
      "text/plain": [
       "Text(0.5, 1.0, 'Accuracy')"
      ]
     },
     "execution_count": 68,
     "metadata": {},
     "output_type": "execute_result"
    },
    {
     "data": {
      "image/png": "[encoded data removed]",
      "text/plain": [
       "<Figure size 640x480 with 1 Axes>"
      ]
     },
     "metadata": {},
     "output_type": "display_data"
    }
   ],
   "source": [
    "import matplotlib.pyplot as plt\n",
    "plt.subplot(1, 2, 1)\n",
    "plt.plot(train_accuracy_history, label=\"train\")\n",
    "plt.plot(val_accuracy_history, label=\"validation\")\n",
    "plt.legend()\n",
    "plt.title('Accuracy')"
   ]
  },
  {
   "cell_type": "code",
   "execution_count": 69,
   "id": "489ca436-6f69-46a5-b3c0-0bf5d73265c9",
   "metadata": {},
   "outputs": [
    {
     "data": {
      "text/plain": [
       "Text(0.5, 1.0, 'Loss')"
      ]
     },
     "execution_count": 69,
     "metadata": {},
     "output_type": "execute_result"
    },
    {
     "data": {
      "image/png": "[encoded data removed]",
      "text/plain": [
       "<Figure size 640x480 with 1 Axes>"
      ]
     },
     "metadata": {},
     "output_type": "display_data"
    }
   ],
   "source": [
    "plt.subplot(1, 2, 2)\n",
    "plt.plot(train_loss_history, label=\"train\")\n",
    "plt.plot(val_loss_history, label=\"validation\")\n",
    "plt.legend()\n",
    "plt.title('Loss')"
   ]
  },
  {
   "cell_type": "code",
   "execution_count": null,
   "id": "eb93f2eb-5ea7-421d-95d4-85319fb48083",
   "metadata": {},
   "outputs": [],
   "source": []
  }
 ],
 "metadata": {
  "kernelspec": {
   "display_name": "Python 3 (ipykernel)",
   "language": "python",
   "name": "python3"
  },
  "language_info": {
   "codemirror_mode": {
    "name": "ipython",
    "version": 3
   },
   "file_extension": ".py",
   "mimetype": "text/x-python",
   "name": "python",
   "nbconvert_exporter": "python",
   "pygments_lexer": "ipython3",
   "version": "3.11.3"
  }
 },
 "nbformat": 4,
 "nbformat_minor": 5
}
